{
 "cells": [
  {
   "cell_type": "code",
   "execution_count": 1,
   "metadata": {},
   "outputs": [
    {
     "name": "stdout",
     "output_type": "stream",
     "text": [
      "Using renderer: colab\n"
     ]
    },
    {
     "name": "stderr",
     "output_type": "stream",
     "text": [
      "/Users/marcomolinari/.pyenv/versions/3.10.13/lib/python3.10/site-packages/tqdm/auto.py:21: TqdmWarning:\n",
      "\n",
      "IProgress not found. Please update jupyter and ipywidgets. See https://ipywidgets.readthedocs.io/en/stable/user_install.html\n",
      "\n"
     ]
    }
   ],
   "source": [
    "import os\n",
    "DEVELOPMENT_MODE = False\n",
    "IN_COLAB = False\n",
    "\n",
    "# Hot reload in development mode & not running on the CD\n",
    "if not IN_COLAB:\n",
    "    from IPython import get_ipython\n",
    "    ip = get_ipython()\n",
    "    if not ip.extension_manager.loaded:\n",
    "        ip.extension_manager.load('autoreload')\n",
    "        %autoreload 2\n",
    "\n",
    "IN_GITHUB = os.getenv(\"GITHUB_ACTIONS\") == \"true\"\n",
    "IN_GITHUB = True\n",
    "\n",
    "# Plotly needs a different renderer for VSCode/Notebooks vs Colab argh\n",
    "import plotly.io as pio\n",
    "if IN_COLAB or not DEVELOPMENT_MODE:\n",
    "    pio.renderers.default = \"colab\"\n",
    "else:\n",
    "    pio.renderers.default = \"notebook_connected\"\n",
    "print(f\"Using renderer: {pio.renderers.default}\")\n",
    "\n",
    "import circuitsvis as cv\n",
    "# Testing that the library works\n",
    "cv.examples.hello(\"Neel\")\n",
    "\n",
    "# Import stuff\n",
    "import torch\n",
    "import torch.nn as nn\n",
    "import torch.nn.functional as F\n",
    "import tqdm.auto as tqdm\n",
    "import plotly.express as px\n",
    "\n",
    "from functools import partial\n",
    "\n",
    "# import transformer_lens\n",
    "import transformer_lens.utils as utils\n",
    "from transformer_lens.hook_points import (\n",
    "    HookPoint,\n",
    ")  # Hooking utilities\n",
    "from transformer_lens import HookedTransformer, FactoredMatrix\n",
    "\n",
    "# LSE.AI specific imports\n",
    "from munch import Munch\n",
    "import matplotlib.pyplot as plt\n",
    "import yaml\n",
    "import sys\n",
    "from fancy_einsum import einsum\n",
    "sys.path.append('./data_and_model/analyse/') \n",
    "from samplers import get_data_sampler\n",
    "from tasks import get_task_sampler\n",
    "import nbformat\n",
    "import numpy as np\n",
    "os.environ['PYTORCH_ENABLE_MPS_FALLBACK'] = '1' # for factored matrix\n",
    "import pandas as pd\n",
    "from jaxtyping import Float\n",
    "\n",
    "from hook_model import hook_model, search_heads_get_loss, get_model, get_data, get_acts, PassThroughEmbed \n",
    "\n",
    "torch.set_grad_enabled(False)\n",
    "\n",
    "device = torch.device('cpu')\n",
    "\n",
    "def imshow(tensor, renderer=None, xaxis=\"\", yaxis=\"\", **kwargs):\n",
    "    px.imshow(utils.to_numpy(tensor), color_continuous_midpoint=0.0, color_continuous_scale=\"RdBu\", labels={\"x\":xaxis, \"y\":yaxis}, **kwargs).show(renderer)\n",
    "\n",
    "def line(tensor, renderer=None, xaxis=\"\", yaxis=\"\", **kwargs):\n",
    "    px.line(utils.to_numpy(tensor), labels={\"x\":xaxis, \"y\":yaxis}, **kwargs).show(renderer)\n",
    "\n",
    "def scatter(x, y, xaxis=\"\", yaxis=\"\", caxis=\"\", renderer=None, **kwargs):\n",
    "    x = utils.to_numpy(x)\n",
    "    y = utils.to_numpy(y)\n",
    "    px.scatter(y=y, x=x, labels={\"x\":xaxis, \"y\":yaxis, \"color\":caxis}, **kwargs).show(renderer)\n",
    "\n",
    "def validation_metric(predictions, labels, return_one_element, device):\n",
    "    predictions = predictions.to(device)\n",
    "\n",
    "    # loss is mse on last 5 predictions (full context)\n",
    "    loss = (labels.to(device) - predictions.to(device)).square().cpu().numpy().mean(axis=0)[-5:].mean()\n",
    "    return loss\n",
    "\n",
    "def get_data(device, conf, read_in_weight, read_in_bias, max_len, return_xs_ys=False):\n",
    "    # generate random data (20d points on a gaussian)\n",
    "\n",
    "    n_dims = conf.training.curriculum.dims.end # is: conf.training.curriculum.dims.end should be: conf.model.n_dims\n",
    "    batch_size = conf.training.batch_size\n",
    "\n",
    "    data_sampler = get_data_sampler(conf.training.data, n_dims)\n",
    "    task_sampler = get_task_sampler(\n",
    "        conf.training.task,\n",
    "        n_dims,\n",
    "        batch_size,\n",
    "        **conf.training.task_kwargs\n",
    "    )\n",
    "    task = task_sampler()\n",
    "    xs = data_sampler.sample_xs(b_size=batch_size, n_points=conf.training.curriculum.points.end) # should be n_points=conf.training.curriculum.points.end, but has been hacked to work for the max_len of 101 (202)\n",
    "    ys = task.evaluate(xs)\n",
    "\n",
    "    # the original model first merges the sequences in z, which we do here (z can have all but the last y since it's causal and intermediate ys are for icl and later icl lenght eval\n",
    "\n",
    "    batch, n_ctx, d_xs = xs.shape\n",
    "\n",
    "    ys_wide = torch.cat(\n",
    "        (\n",
    "            ys.view(batch, n_ctx, 1),\n",
    "            torch.zeros(batch, n_ctx, d_xs - 1, device=ys.device),\n",
    "        ),\n",
    "        axis=2,\n",
    "    )\n",
    "    my_zs = torch.stack((xs, ys_wide), dim=2)\n",
    "    my_zs = my_zs.view(batch, 2 * n_ctx, d_xs).to(device)\n",
    "\n",
    "    zeros_to_append = torch.zeros(my_zs.shape[0], my_zs.shape[1], conf.model.n_dims - my_zs.shape[2])\n",
    "\n",
    "    my_zs = torch.cat((my_zs.to(device), zeros_to_append.to(device)), dim=2)\n",
    "\n",
    "    # apply the read_in transformation\n",
    "    transformed_zs = einsum(\"batch n_ctx d_xs, d_model d_xs -> batch n_ctx d_model\", my_zs, read_in_weight) + read_in_bias\n",
    "\n",
    "    # apply padding\n",
    "\n",
    "    current_len = transformed_zs.shape[1]\n",
    "    max_len = 64 # HORRID tech debt I don't get\n",
    "    pad_len = max(max_len - current_len, 0)\n",
    "\n",
    "    \n",
    "\n",
    "    # Apply padding to the right of the second dimension\n",
    "    # The padding order in F.pad is (left, right, top, bottom) for 4D input, but here it's the equivalent for 3D\n",
    "    if return_xs_ys:\n",
    "        return F.pad(transformed_zs, (0, 0, 0, pad_len), \"constant\", 0).to(device), xs.to(device), ys.to(device)\n",
    "    return F.pad(transformed_zs, (0, 0, 0, pad_len), \"constant\", 0), ys.to(device)\n",
    "\n",
    "\n",
    "class PassThroughEmbed(nn.Module):\n",
    "        def __init__(self, cfg=None):\n",
    "            super().__init__()\n",
    "            # No parameters needed, but constructor accepts cfg for compatibility\n",
    "\n",
    "        def forward(self, tokens):\n",
    "            # Directly return the input without any modifications\n",
    "            return tokens\n",
    "\n",
    "\n",
    "def plot_loss(pred, labels, conf, device):\n",
    "\n",
    "    loss = (labels.to(device) - pred.to(device)).square().cpu().numpy()\n",
    "\n",
    "    baseline = {\n",
    "        \"linear_regression\": conf.model.n_dims,\n",
    "    }[conf.training.task]\n",
    "\n",
    "    plt.plot(loss.mean(axis=0), lw=2, label=\"Transformer\")\n",
    "    plt.axhline(baseline, ls=\"--\", color=\"gray\", label=\"zero estimator\")\n",
    "    plt.xlabel(\"# in-context examples\")\n",
    "    plt.ylabel(\"squared error\")\n",
    "    plt.legend()\n",
    "    plt.show()\n",
    "\n",
    "def test_model(device, conf, read_in_weight, read_in_bias, max_len, graph=False):\n",
    "    input, labels = get_data(device, conf, read_in_weight, read_in_bias, max_len)\n",
    "\n",
    "    with torch.no_grad():\n",
    "        my_pred = model(input)[:, ::2, 0][:, torch.arange(labels.shape[1])].cpu() # this last transformation before returning is in the original and I assume only selects the predictions for ys\n",
    "    \n",
    "    mse = validation_metric(my_pred, labels, True, device)\n",
    "\n",
    "    if graph:\n",
    "        plot_loss(my_pred, labels, conf, device)\n",
    "\n",
    "    return mse\n",
    "\n",
    "\n",
    "def get_model(path, device=\"cpu\"):\n",
    "    class PassThroughEmbed(nn.Module):\n",
    "        def __init__(self, cfg=None):\n",
    "            super().__init__()\n",
    "            # No parameters needed, but constructor accepts cfg for compatibility\n",
    "\n",
    "        def forward(self, tokens):\n",
    "            # Directly return the input without any modifications\n",
    "            return tokens\n",
    "\n",
    "    model = torch.load(path, map_location=device)\n",
    "    tl_model = model.to(device)\n",
    "    tl_model.set_use_attn_result(True)\n",
    "    tl_model.set_use_split_qkv_input(True)\n",
    "    if \"use_hook_mlp_in\" in tl_model.cfg.to_dict():\n",
    "        tl_model.set_use_hook_mlp_in(True)\n",
    "    return tl_model"
   ]
  },
  {
   "cell_type": "code",
   "execution_count": 2,
   "metadata": {},
   "outputs": [
    {
     "name": "stdout",
     "output_type": "stream",
     "text": [
      "Moving model to device:  cpu\n"
     ]
    }
   ],
   "source": [
    "config_path = \"config.yaml\" # nuvolous path: \"data_and_model/analyse/config.yaml\"\n",
    "with open(config_path) as fp:  # we don't Quinfig it to avoid inherits\n",
    "    conf = Munch.fromDict(yaml.safe_load(fp))\n",
    "model = get_model('./weights/last_final_toy_model.pt', device) # nuvolous path: 'data_and_model/analyse/toy_model.pt'\n",
    "read_in_weight = torch.load('./weights/last_final_toy_read_in_weight.pt', map_location=device) # nuvolous path: 'data_and_model/analyse/toy_read_in_weight.pt'\n",
    "read_in_bias = torch.load('./weights/last_final_toy_read_in_bias.pt', map_location=device) # nuvolous path: 'data_and_model/analyse/toy_read_in_bias.pt'"
   ]
  },
  {
   "cell_type": "code",
   "execution_count": 3,
   "metadata": {},
   "outputs": [
    {
     "data": {
      "image/png": "[encoded data removed]",
      "text/plain": [
       "<Figure size 640x480 with 1 Axes>"
      ]
     },
     "metadata": {},
     "output_type": "display_data"
    },
    {
     "data": {
      "text/plain": [
       "0.5177783"
      ]
     },
     "execution_count": 3,
     "metadata": {},
     "output_type": "execute_result"
    }
   ],
   "source": [
    "test_model(device, conf, read_in_weight, read_in_bias, model.cfg.n_ctx, True)"
   ]
  },
  {
   "attachments": {},
   "cell_type": "markdown",
   "metadata": {},
   "source": [
    "# Set up causal experiment"
   ]
  },
  {
   "cell_type": "code",
   "execution_count": 4,
   "metadata": {},
   "outputs": [],
   "source": [
    "def prep_manual_input(xs, ys):\n",
    "    batch, n_ctx, d_xs = xs.shape\n",
    "\n",
    "    ys_wide = torch.cat(\n",
    "        (\n",
    "            ys.view(batch, n_ctx, 1),\n",
    "            torch.zeros(batch, n_ctx, d_xs - 1, device=ys.device),\n",
    "        ),\n",
    "        axis=2,\n",
    "    )\n",
    "    my_zs = torch.stack((xs, ys_wide), dim=2)\n",
    "    my_zs = my_zs.view(batch, 2 * n_ctx, d_xs).to(device)\n",
    "\n",
    "    zeros_to_append = torch.zeros(my_zs.shape[0], my_zs.shape[1], conf.model.n_dims - my_zs.shape[2])\n",
    "\n",
    "    my_zs = torch.cat((my_zs.to(device), zeros_to_append.to(device)), dim=2)\n",
    "\n",
    "    # apply the read_in transformation\n",
    "    transformed_zs = einsum(\"batch n_ctx d_xs, d_model d_xs -> batch n_ctx d_model\", my_zs, read_in_weight) + read_in_bias\n",
    "\n",
    "    # apply padding\n",
    "\n",
    "    current_len = transformed_zs.shape[1]\n",
    "    max_len = 64 # HORRID tech debt I don't get\n",
    "    pad_len = max(max_len - current_len, 0)\n",
    "\n",
    "    \n",
    "\n",
    "    # Apply padding to the right of the second dimension\n",
    "    # The padding order in F.pad is (left, right, top, bottom) for 4D input, but here it's the equivalent for 3D\n",
    "    return F.pad(transformed_zs, (0, 0, 0, pad_len), \"constant\", 0)\n"
   ]
  },
  {
   "cell_type": "code",
   "execution_count": 5,
   "metadata": {},
   "outputs": [
    {
     "data": {
      "text/plain": [
       "0.046146598"
      ]
     },
     "execution_count": 5,
     "metadata": {},
     "output_type": "execute_result"
    }
   ],
   "source": [
    "# baseline stuff, don't change\n",
    "xs = torch.tensor([[[1, 1, 1] for i in range(10)]])\n",
    "ys = torch.tensor([[1 for i in range(10)]])\n",
    "\n",
    "manual_baseline_input = prep_manual_input(xs, ys)\n",
    "\n",
    "baseline_output, baseline_cache = model.run_with_cache(manual_baseline_input)\n",
    "baseline_output = baseline_output[:, ::2, 0][:, torch.arange(ys.shape[1])].cpu()\n",
    "validation_metric(baseline_output, ys, False, 'cpu')"
   ]
  },
  {
   "cell_type": "code",
   "execution_count": 6,
   "metadata": {},
   "outputs": [
    {
     "data": {
      "text/plain": [
       "0.4286701"
      ]
     },
     "execution_count": 6,
     "metadata": {},
     "output_type": "execute_result"
    }
   ],
   "source": [
    "corrupt_xs = torch.tensor([[[2, 2, 2] for i in range(10)]])\n",
    "corrupt_ys = torch.tensor([[2 for i in range(10)]])\n",
    "\n",
    "manual_corrupt_input = prep_manual_input(corrupt_xs, corrupt_ys)\n",
    "\n",
    "corrupt_output, corrupt_cache = model.run_with_cache(manual_corrupt_input)\n",
    "corrupt_output = corrupt_output[:, ::2, 0][:, torch.arange(ys.shape[1])].cpu()\n",
    "validation_metric(corrupt_output, corrupt_ys, False, 'cpu')"
   ]
  },
  {
   "cell_type": "code",
   "execution_count": 7,
   "metadata": {},
   "outputs": [
    {
     "data": {
      "text/plain": [
       "(torch.Size([1, 10, 3]),\n",
       " torch.Size([1, 10]),\n",
       " torch.Size([1, 64, 64]),\n",
       " torch.Size([1, 10, 3]),\n",
       " torch.Size([1, 10]),\n",
       " torch.Size([1, 64, 64]))"
      ]
     },
     "execution_count": 7,
     "metadata": {},
     "output_type": "execute_result"
    }
   ],
   "source": [
    "xs.shape, ys.shape, manual_baseline_input.shape, corrupt_xs.shape, corrupt_ys.shape, manual_corrupt_input.shape"
   ]
  },
  {
   "cell_type": "code",
   "execution_count": 8,
   "metadata": {},
   "outputs": [],
   "source": [
    "layer = 0\n",
    "head = 0"
   ]
  },
  {
   "cell_type": "code",
   "execution_count": 9,
   "metadata": {},
   "outputs": [],
   "source": [
    "def get_hooked_preds(input, labels, old_cache, nex_cache):\n",
    "    '''\n",
    "    Mind this function only replaces the embedding!!\n",
    "    we are patching in new xs in A00\n",
    "    likely we are gonna need to adjust for subsequent components\n",
    "    '''\n",
    "\n",
    "    model.reset_hooks()\n",
    "\n",
    "    def xs_attn0_patching_hook(\n",
    "        resid_pre: Float[torch.Tensor, \"batch pos d_model\"],\n",
    "        hook: HookPoint,\n",
    "    ) -> Float[torch.Tensor, \"batch pos d_model\"]:\n",
    "        # Each HookPoint has a name attribute giving the name of the hook.\n",
    "        \n",
    "        corrupt_embedding = nex_cache[f'blocks.{str(layer)}.hook_resid_pre']\n",
    "        clean_embedding = old_cache[f'blocks.{str(layer)}.hook_resid_pre']\n",
    "\n",
    "        # ::2 for xs\n",
    "        resid_pre[:, ::2, head, :] = resid_pre[:, ::2, head, :] - clean_embedding[:, ::2, :] + corrupt_embedding[:, ::2, :]\n",
    "        return resid_pre\n",
    "\n",
    "    head_0_xs_patched_preds = model.run_with_hooks(input, fwd_hooks=[\n",
    "        (utils.get_act_name('blocks.0.hook_v_input'), xs_attn0_patching_hook)\n",
    "    ])[:, ::2, 0][:, torch.arange(labels.shape[1])].cpu()\n",
    "    head_0_xs_ablated_loss = validation_metric(head_0_xs_patched_preds, labels, False, 'cpu')\n",
    "\n",
    "    model.reset_hooks()\n",
    "    return head_0_xs_patched_preds"
   ]
  },
  {
   "cell_type": "code",
   "execution_count": 10,
   "metadata": {},
   "outputs": [
    {
     "data": {
      "text/plain": [
       "tensor([[0.0459, 0.5640, 0.3017, 0.0985, 0.0548, 0.0792, 0.1343, 0.2283, 0.3135,\n",
       "         0.3481]])"
      ]
     },
     "execution_count": 10,
     "metadata": {},
     "output_type": "execute_result"
    }
   ],
   "source": [
    "get_hooked_preds(manual_baseline_input, ys, baseline_cache, corrupt_cache)"
   ]
  },
  {
   "cell_type": "code",
   "execution_count": 17,
   "metadata": {},
   "outputs": [],
   "source": [
    "file_path = 'a_0_0_patch_dataset.txt'\n",
    "\n",
    "# Open the file in append mode\n",
    "with open(file_path, 'a') as file:\n",
    "    while True:\n",
    "        # input\n",
    "        data_sampler = get_data_sampler(conf.training.data, 3)\n",
    "\n",
    "        patch_in_xs = data_sampler.sample_xs(b_size=1, n_points=conf.training.curriculum.points.end)\n",
    "        x1, x2, x3 = patch_in_xs[0][0][0], patch_in_xs[0][0][1], patch_in_xs[0][0][2]\n",
    "        patch_in_xs = torch.tensor([[[x1, x2, x3] for i in range(10)]])\n",
    "\n",
    "        patch_in_ys = torch.tensor([[1 for i in range(10)]])\n",
    "\n",
    "\n",
    "        manual_patch_in_input = prep_manual_input(patch_in_xs, patch_in_ys)\n",
    "\n",
    "        \n",
    "        # output\n",
    "        _, patch_in_cache = model.run_with_cache(manual_patch_in_input)\n",
    "        output_string = str(get_hooked_preds(manual_baseline_input, ys, baseline_cache, patch_in_cache)[0].mean().item())\n",
    "        output_string = str(x1.item()) + ' ' + str(x2.item()) + ' ' + str(x3.item()) + ' ' + output_string\n",
    "\n",
    "        # Write the output to the file\n",
    "        file.write(output_string)\n",
    "        file.write('\\n')  # Optionally add a newline for readability\n",
    "\n",
    "        # Flush the write buffer to ensure all data is written to the disk\n",
    "        file.flush()\n",
    "\n",
    "        # Check the size of the file\n",
    "        if os.path.getsize(file_path) >= 1 * 1024 * 1024:  # 100kb\n",
    "            break  # Exit the loop if the file is 100kb or larger"
   ]
  }
 ],
 "metadata": {
  "kernelspec": {
   "display_name": "Python 3",
   "language": "python",
   "name": "python3"
  },
  "language_info": {
   "codemirror_mode": {
    "name": "ipython",
    "version": 3
   },
   "file_extension": ".py",
   "mimetype": "text/x-python",
   "name": "python",
   "nbconvert_exporter": "python",
   "pygments_lexer": "ipython3",
   "version": "3.10.13"
  },
  "orig_nbformat": 4,
  "vscode": {
   "interpreter": {
    "hash": "ca8b0aeffb2b7a98f29ba379058093df1fc88a600669642dc79207c759528fb7"
   }
  }
 },
 "nbformat": 4,
 "nbformat_minor": 2
}
